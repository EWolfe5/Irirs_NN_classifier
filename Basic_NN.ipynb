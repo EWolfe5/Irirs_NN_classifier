{
  "nbformat": 4,
  "nbformat_minor": 0,
  "metadata": {
    "colab": {
      "name": "Basic NN.ipynb",
      "provenance": [],
      "collapsed_sections": []
    },
    "kernelspec": {
      "name": "python3",
      "display_name": "Python 3"
    },
    "language_info": {
      "name": "python"
    }
  },
  "cells": [
    {
      "cell_type": "code",
      "metadata": {
        "id": "whM4x8cYeFWl"
      },
      "source": [
        "import torch\n",
        "import torch.nn as nn\n",
        "import torch.nn.functional as F\n",
        "import matplotlib.pyplot as plt\n",
        "import pandas as pd\n",
        "import seaborn as sns"
      ],
      "execution_count": null,
      "outputs": []
    },
    {
      "cell_type": "markdown",
      "metadata": {
        "id": "owtkI8IKfQZP"
      },
      "source": [
        "**We always begin *any* NN by defining a class that inherits from the nn.Module class**"
      ]
    },
    {
      "cell_type": "code",
      "metadata": {
        "id": "ljvVUpoofd3p"
      },
      "source": [
        "class Model(nn.Module):\n",
        "  # Define the 2 basic method, and instatiation method and a feedforward method that \"moves data from one neuron to the next\"\n",
        "  def __init__(self, in_features=4, h1=8, h2=8, out_features=3):\n",
        "    # all the features are initialized assuming we know what the features that are passed as input and the possible guess or outputs are known!\n",
        "    # h1 and h2 are the hidden layers and can be played around with!\n",
        "    super().__init__()\n",
        "    self.fc1 = nn.Linear(in_features, h1) # fc1 is fully conected layer from in to first hidden layer\n",
        "    self.fc2 = nn.Linear(h1, h2)\n",
        "    self.out = nn.Linear(h2, out_features) # By convention, the last connection should be called 'out' as it connects to the output layer\n",
        "\n",
        "#Play around with normalizing inputs and outputs (i.e. F.tanh, F.LeakyReLU, etc).\n",
        "\n",
        "  def forward(self, x_input):\n",
        "    # This is where the data is propagated and analized forward, we take x_input and pass it through some activation function\n",
        "    # forward, all the way to the end\n",
        "    \n",
        "    # pass the first input layer through the Relu activation funtion and we let X be the output from the activation function:\n",
        "    # X = Relu(x_input), such that fc2 = a*x + b\n",
        "    X = F.relu(self.fc1(x_input))\n",
        "    X = F.relu(self.fc2(X))\n",
        "    X = self.out(X)\n",
        "    return X"
      ],
      "execution_count": null,
      "outputs": []
    },
    {
      "cell_type": "markdown",
      "metadata": {
        "id": "ZIMc5cqMiEZ_"
      },
      "source": [
        "We can instatiate the model. Since we did not initiallized the weights and biases by hand, the nn.Linear will randomly pick it for us."
      ]
    },
    {
      "cell_type": "code",
      "metadata": {
        "id": "2aAmCT15iA3b"
      },
      "source": [
        "model = Model()"
      ],
      "execution_count": null,
      "outputs": []
    },
    {
      "cell_type": "markdown",
      "metadata": {
        "id": "kn2M9r8yi0XS"
      },
      "source": [
        "**Let us import the data. I've stored the data set within a folder called \"Data\" inside the directory where this notebook is.**"
      ]
    },
    {
      "cell_type": "code",
      "metadata": {
        "colab": {
          "base_uri": "https://localhost:8080/",
          "height": 206
        },
        "id": "XfOyTB9kiXXv",
        "outputId": "5fe17b40-d88f-45bd-c07b-9fbadbda01ca"
      },
      "source": [
        "df = pd.read_csv('/content/drive/MyDrive/Colab_Notebooks/Pytorch/Data/iris.csv')\n",
        "df.head()"
      ],
      "execution_count": null,
      "outputs": [
        {
          "output_type": "execute_result",
          "data": {
            "text/html": [
              "\n",
              "  <div id=\"df-622ac716-180a-42be-8751-5140d36e5064\">\n",
              "    <div class=\"colab-df-container\">\n",
              "      <div>\n",
              "<style scoped>\n",
              "    .dataframe tbody tr th:only-of-type {\n",
              "        vertical-align: middle;\n",
              "    }\n",
              "\n",
              "    .dataframe tbody tr th {\n",
              "        vertical-align: top;\n",
              "    }\n",
              "\n",
              "    .dataframe thead th {\n",
              "        text-align: right;\n",
              "    }\n",
              "</style>\n",
              "<table border=\"1\" class=\"dataframe\">\n",
              "  <thead>\n",
              "    <tr style=\"text-align: right;\">\n",
              "      <th></th>\n",
              "      <th>sepal length (cm)</th>\n",
              "      <th>sepal width (cm)</th>\n",
              "      <th>petal length (cm)</th>\n",
              "      <th>petal width (cm)</th>\n",
              "      <th>target</th>\n",
              "    </tr>\n",
              "  </thead>\n",
              "  <tbody>\n",
              "    <tr>\n",
              "      <th>0</th>\n",
              "      <td>5.1</td>\n",
              "      <td>3.5</td>\n",
              "      <td>1.4</td>\n",
              "      <td>0.2</td>\n",
              "      <td>0.0</td>\n",
              "    </tr>\n",
              "    <tr>\n",
              "      <th>1</th>\n",
              "      <td>4.9</td>\n",
              "      <td>3.0</td>\n",
              "      <td>1.4</td>\n",
              "      <td>0.2</td>\n",
              "      <td>0.0</td>\n",
              "    </tr>\n",
              "    <tr>\n",
              "      <th>2</th>\n",
              "      <td>4.7</td>\n",
              "      <td>3.2</td>\n",
              "      <td>1.3</td>\n",
              "      <td>0.2</td>\n",
              "      <td>0.0</td>\n",
              "    </tr>\n",
              "    <tr>\n",
              "      <th>3</th>\n",
              "      <td>4.6</td>\n",
              "      <td>3.1</td>\n",
              "      <td>1.5</td>\n",
              "      <td>0.2</td>\n",
              "      <td>0.0</td>\n",
              "    </tr>\n",
              "    <tr>\n",
              "      <th>4</th>\n",
              "      <td>5.0</td>\n",
              "      <td>3.6</td>\n",
              "      <td>1.4</td>\n",
              "      <td>0.2</td>\n",
              "      <td>0.0</td>\n",
              "    </tr>\n",
              "  </tbody>\n",
              "</table>\n",
              "</div>\n",
              "      <button class=\"colab-df-convert\" onclick=\"convertToInteractive('df-622ac716-180a-42be-8751-5140d36e5064')\"\n",
              "              title=\"Convert this dataframe to an interactive table.\"\n",
              "              style=\"display:none;\">\n",
              "        \n",
              "  <svg xmlns=\"http://www.w3.org/2000/svg\" height=\"24px\"viewBox=\"0 0 24 24\"\n",
              "       width=\"24px\">\n",
              "    <path d=\"M0 0h24v24H0V0z\" fill=\"none\"/>\n",
              "    <path d=\"M18.56 5.44l.94 2.06.94-2.06 2.06-.94-2.06-.94-.94-2.06-.94 2.06-2.06.94zm-11 1L8.5 8.5l.94-2.06 2.06-.94-2.06-.94L8.5 2.5l-.94 2.06-2.06.94zm10 10l.94 2.06.94-2.06 2.06-.94-2.06-.94-.94-2.06-.94 2.06-2.06.94z\"/><path d=\"M17.41 7.96l-1.37-1.37c-.4-.4-.92-.59-1.43-.59-.52 0-1.04.2-1.43.59L10.3 9.45l-7.72 7.72c-.78.78-.78 2.05 0 2.83L4 21.41c.39.39.9.59 1.41.59.51 0 1.02-.2 1.41-.59l7.78-7.78 2.81-2.81c.8-.78.8-2.07 0-2.86zM5.41 20L4 18.59l7.72-7.72 1.47 1.35L5.41 20z\"/>\n",
              "  </svg>\n",
              "      </button>\n",
              "      \n",
              "  <style>\n",
              "    .colab-df-container {\n",
              "      display:flex;\n",
              "      flex-wrap:wrap;\n",
              "      gap: 12px;\n",
              "    }\n",
              "\n",
              "    .colab-df-convert {\n",
              "      background-color: #E8F0FE;\n",
              "      border: none;\n",
              "      border-radius: 50%;\n",
              "      cursor: pointer;\n",
              "      display: none;\n",
              "      fill: #1967D2;\n",
              "      height: 32px;\n",
              "      padding: 0 0 0 0;\n",
              "      width: 32px;\n",
              "    }\n",
              "\n",
              "    .colab-df-convert:hover {\n",
              "      background-color: #E2EBFA;\n",
              "      box-shadow: 0px 1px 2px rgba(60, 64, 67, 0.3), 0px 1px 3px 1px rgba(60, 64, 67, 0.15);\n",
              "      fill: #174EA6;\n",
              "    }\n",
              "\n",
              "    [theme=dark] .colab-df-convert {\n",
              "      background-color: #3B4455;\n",
              "      fill: #D2E3FC;\n",
              "    }\n",
              "\n",
              "    [theme=dark] .colab-df-convert:hover {\n",
              "      background-color: #434B5C;\n",
              "      box-shadow: 0px 1px 3px 1px rgba(0, 0, 0, 0.15);\n",
              "      filter: drop-shadow(0px 1px 2px rgba(0, 0, 0, 0.3));\n",
              "      fill: #FFFFFF;\n",
              "    }\n",
              "  </style>\n",
              "\n",
              "      <script>\n",
              "        const buttonEl =\n",
              "          document.querySelector('#df-622ac716-180a-42be-8751-5140d36e5064 button.colab-df-convert');\n",
              "        buttonEl.style.display =\n",
              "          google.colab.kernel.accessAllowed ? 'block' : 'none';\n",
              "\n",
              "        async function convertToInteractive(key) {\n",
              "          const element = document.querySelector('#df-622ac716-180a-42be-8751-5140d36e5064');\n",
              "          const dataTable =\n",
              "            await google.colab.kernel.invokeFunction('convertToInteractive',\n",
              "                                                     [key], {});\n",
              "          if (!dataTable) return;\n",
              "\n",
              "          const docLinkHtml = 'Like what you see? Visit the ' +\n",
              "            '<a target=\"_blank\" href=https://colab.research.google.com/notebooks/data_table.ipynb>data table notebook</a>'\n",
              "            + ' to learn more about interactive tables.';\n",
              "          element.innerHTML = '';\n",
              "          dataTable['output_type'] = 'display_data';\n",
              "          await google.colab.output.renderOutput(dataTable, element);\n",
              "          const docLink = document.createElement('div');\n",
              "          docLink.innerHTML = docLinkHtml;\n",
              "          element.appendChild(docLink);\n",
              "        }\n",
              "      </script>\n",
              "    </div>\n",
              "  </div>\n",
              "  "
            ],
            "text/plain": [
              "   sepal length (cm)  sepal width (cm)  ...  petal width (cm)  target\n",
              "0                5.1               3.5  ...               0.2     0.0\n",
              "1                4.9               3.0  ...               0.2     0.0\n",
              "2                4.7               3.2  ...               0.2     0.0\n",
              "3                4.6               3.1  ...               0.2     0.0\n",
              "4                5.0               3.6  ...               0.2     0.0\n",
              "\n",
              "[5 rows x 5 columns]"
            ]
          },
          "metadata": {},
          "execution_count": 15
        }
      ]
    },
    {
      "cell_type": "code",
      "metadata": {
        "id": "9oM8GFVlo5Pq"
      },
      "source": [
        "x = df.drop('target', axis=1) #since we want to train the data, it shouldn't have to know what the expected output is just yet\n",
        "y = df['target'] #this are now the expected values"
      ],
      "execution_count": null,
      "outputs": []
    },
    {
      "cell_type": "markdown",
      "metadata": {
        "id": "PA58WegnpRxN"
      },
      "source": [
        "**ALWAYS work with np.arrays or tensors. So if the data is not in that format, we can convert with built-in pytorch functions.**"
      ]
    },
    {
      "cell_type": "code",
      "metadata": {
        "id": "WWYZZeg5pdbY"
      },
      "source": [
        "x = x.values\n",
        "y = y.values"
      ],
      "execution_count": null,
      "outputs": []
    },
    {
      "cell_type": "markdown",
      "metadata": {
        "id": "79OJ3Z7Qpsuw"
      },
      "source": [
        "**A good place to start is by creating training sets. Scikit learn takes a data set, and shuffles the data so that the model is not memorizing but rather learning.**"
      ]
    },
    {
      "cell_type": "code",
      "metadata": {
        "id": "ltp4DXmmpQAc"
      },
      "source": [
        "from sklearn.model_selection import train_test_split\n",
        "X_train, X_test, y_train, y_test = train_test_split(x, y, test_size=0.2, random_state=33)"
      ],
      "execution_count": null,
      "outputs": []
    },
    {
      "cell_type": "markdown",
      "metadata": {
        "id": "jx_frzPBqGRr"
      },
      "source": [
        "**For consistency, we want the training values and testing values to be in float tensor forms!**"
      ]
    },
    {
      "cell_type": "code",
      "metadata": {
        "id": "ASJ1azr-qDfO"
      },
      "source": [
        "X_train = torch.FloatTensor(X_train)\n",
        "X_test = torch.FloatTensor(X_test)\n",
        "\n",
        "y_test = torch.LongTensor(y_test)\n",
        "y_train = torch.LongTensor(y_train)"
      ],
      "execution_count": null,
      "outputs": []
    },
    {
      "cell_type": "markdown",
      "metadata": {
        "id": "RKAkpEmqrFO8"
      },
      "source": [
        "**Let us define a cost function and an optimizer**"
      ]
    },
    {
      "cell_type": "code",
      "metadata": {
        "id": "MevZ8YPJrC5t"
      },
      "source": [
        "#Since this is a multiclass classification problem, CEL function is best to use.\n",
        "criterion = nn.CrossEntropyLoss()\n",
        "optimizer = torch.optim.Adam(model.parameters(), lr=0.01)"
      ],
      "execution_count": null,
      "outputs": []
    },
    {
      "cell_type": "markdown",
      "metadata": {
        "id": "X1PnKE0iryqL"
      },
      "source": [
        "**Time to train the model. A question to ask is what's a good amount of epochs to train the model for?**"
      ]
    },
    {
      "cell_type": "code",
      "metadata": {
        "id": "wshlOzDgrwwm"
      },
      "source": [
        "epochs = 120\n",
        "losses = []\n",
        "\n",
        "for i in range(epochs):\n",
        "  # For every pass we make on the data set, we want to make a prediction, and keep track of the losses, then optimize.\n",
        "  # 1. predict\n",
        "  y_predicted = model.forward(X_train)\n",
        "\n",
        "  # 2. calculate loss/error, then record\n",
        "  loss = criterion(y_predicted, y_train)\n",
        "  losses.append(loss)\n",
        "\n",
        "  # Perform backpropagation: optimize the weights an biases and propagate backwards to adjust the w and b of the previous layers\n",
        "  optimizer.zero_grad() # finds minima (local or global)\n",
        "  loss.backward() # backpropagates\n",
        "  optimizer.step() # resets gradients\n"
      ],
      "execution_count": null,
      "outputs": []
    },
    {
      "cell_type": "code",
      "metadata": {
        "colab": {
          "base_uri": "https://localhost:8080/",
          "height": 518
        },
        "id": "DSDeZVwKtiNE",
        "outputId": "c0e8950d-4536-4187-eb2b-b52e585ff882"
      },
      "source": [
        "#lets visualize the losses\n",
        "plt.figure(figsize=(10,8))\n",
        "plt.plot(range(epochs), losses)\n",
        "plt.ylabel('LOSS', size=12)\n",
        "plt.xlabel('EPOCHS', size=12)\n",
        "plt.title('Loss Over Time', size=15);\n",
        "plt.savefig('/content/drive/MyDrive/Colab_Notebooks/Pytorch/Iris_loss_over_time.png', dpi=300);"
      ],
      "execution_count": null,
      "outputs": [
        {
          "output_type": "display_data",
          "data": {
            "image/png": "[encoded data removed]",
            "text/plain": [
              "<Figure size 720x576 with 1 Axes>"
            ]
          },
          "metadata": {
            "needs_background": "light"
          }
        }
      ]
    },
    {
      "cell_type": "markdown",
      "metadata": {
        "id": "mMOhkQzM1tJ9"
      },
      "source": [
        "**Let's test its peformace against the test data.**"
      ]
    },
    {
      "cell_type": "code",
      "metadata": {
        "colab": {
          "base_uri": "https://localhost:8080/"
        },
        "id": "JYXwzzGy12pu",
        "outputId": "2c017589-e7d1-4309-dc60-cf972057c522"
      },
      "source": [
        "with torch.no_grad(): # We use this line to preserve the current model features (w and b)\n",
        "  y_eval = model.forward(X_test)\n",
        "  loss = criterion(y_eval, y_test)\n",
        "\n",
        "print(f'The total loss for this test was {loss}')"
      ],
      "execution_count": null,
      "outputs": [
        {
          "output_type": "stream",
          "name": "stdout",
          "text": [
            "The total loss for this test was 0.0627010241150856\n"
          ]
        }
      ]
    },
    {
      "cell_type": "markdown",
      "metadata": {
        "id": "nhjLDrqv2dKF"
      },
      "source": [
        "**Let's see a better visualization of its performance by checking the total number of right predictions**"
      ]
    },
    {
      "cell_type": "code",
      "metadata": {
        "colab": {
          "base_uri": "https://localhost:8080/"
        },
        "id": "DtHxzji02lJS",
        "outputId": "216c42dd-e836-4290-cb35-cf858ccd60b4"
      },
      "source": [
        "correct = 0\n",
        "predictions = []\n",
        "with torch.no_grad():\n",
        "  for i,data in enumerate(X_test):\n",
        "    y_pred = model.forward(data)\n",
        "    predictions.append(y_pred.argmax().item())\n",
        "\n",
        "    # Lets print its prediction against the actual data point!\n",
        "    print(f'{i+1}.) prediction: {str(y_pred.argmax().item())}  actual: {y_test[i]}')\n",
        "\n",
        "    if y_pred.argmax().item() == y_test[i]:\n",
        "      correct +=1\n",
        "\n",
        "print(f'\\nThe correct number of predictions was {correct}/{len(predictions)}!')\n",
        "print(f\"That's a {round(correct/30 * 100, 2)}% success rate!\")"
      ],
      "execution_count": null,
      "outputs": [
        {
          "output_type": "stream",
          "name": "stdout",
          "text": [
            "1.) prediction: 1  actual: 1\n",
            "2.) prediction: 1  actual: 1\n",
            "3.) prediction: 0  actual: 0\n",
            "4.) prediction: 1  actual: 1\n",
            "5.) prediction: 2  actual: 2\n",
            "6.) prediction: 2  actual: 2\n",
            "7.) prediction: 0  actual: 0\n",
            "8.) prediction: 0  actual: 0\n",
            "9.) prediction: 2  actual: 2\n",
            "10.) prediction: 2  actual: 2\n",
            "11.) prediction: 2  actual: 2\n",
            "12.) prediction: 0  actual: 0\n",
            "13.) prediction: 2  actual: 2\n",
            "14.) prediction: 1  actual: 1\n",
            "15.) prediction: 2  actual: 2\n",
            "16.) prediction: 1  actual: 1\n",
            "17.) prediction: 2  actual: 2\n",
            "18.) prediction: 0  actual: 0\n",
            "19.) prediction: 1  actual: 1\n",
            "20.) prediction: 2  actual: 2\n",
            "21.) prediction: 0  actual: 0\n",
            "22.) prediction: 0  actual: 0\n",
            "23.) prediction: 2  actual: 2\n",
            "24.) prediction: 0  actual: 0\n",
            "25.) prediction: 2  actual: 2\n",
            "26.) prediction: 2  actual: 2\n",
            "27.) prediction: 1  actual: 1\n",
            "28.) prediction: 1  actual: 1\n",
            "29.) prediction: 2  actual: 2\n",
            "30.) prediction: 2  actual: 2\n",
            "\n",
            "The correct number of predictions was 30/30!\n",
            "That's a 100.0% success rate!\n"
          ]
        }
      ]
    },
    {
      "cell_type": "code",
      "source": [
        "from sklearn.metrics import confusion_matrix\n",
        "\n",
        "plt.figure(figsize=(12,8))\n",
        "sns.heatmap(confusion_matrix(predictions, y_test), annot=True, cmap='Reds',fmt='d');\n",
        "plt.title('Confusion Matrix', size=14);\n",
        "plt.xlabel('Predicted', size=12)\n",
        "plt.ylabel('Actual', size=12)\n",
        "labels = ['Iris setosa','Iris virginica','Iris versicolor']\n",
        "plt.yticks(ticks=[0.5, 1.5, 2.5], labels=labels, rotation=0)\n",
        "plt.xticks(ticks=[0.5, 1.5, 2.5], labels=labels);\n",
        "plt.savefig('/content/drive/MyDrive/Colab_Notebooks/Pytorch/Iris_confusion_matrix.png', dpi=300);"
      ],
      "metadata": {
        "colab": {
          "base_uri": "https://localhost:8080/",
          "height": 517
        },
        "id": "W-5wi_8yknVs",
        "outputId": "73e8d7fe-34e6-42c8-c2e0-3438292a8779"
      },
      "execution_count": null,
      "outputs": [
        {
          "output_type": "display_data",
          "data": {
            "image/png": "[encoded data removed]",
            "text/plain": [
              "<Figure size 864x576 with 2 Axes>"
            ]
          },
          "metadata": {
            "needs_background": "light"
          }
        }
      ]
    },
    {
      "cell_type": "markdown",
      "metadata": {
        "id": "of7KRBnr52wJ"
      },
      "source": [
        "**Say that we are happy with our model. Let's now save it!**"
      ]
    },
    {
      "cell_type": "code",
      "metadata": {
        "colab": {
          "base_uri": "https://localhost:8080/",
          "height": 35
        },
        "id": "3BkuQHZA5gde",
        "outputId": "8cb479c9-4d62-4c65-fa8d-3a9cb932903a"
      },
      "source": [
        "#This only saves the current weight and bias of the model but not the entire class!\n",
        "torch.save(model.state_dict(), 'My_iris_model.pt')\n",
        "\n",
        "'''If we wanted to save the entire model, we would use:\n",
        "torch.save(model, 'name_of_file.pkl')\n",
        "and it MUST be saved as a pickle file!'''"
      ],
      "execution_count": null,
      "outputs": [
        {
          "output_type": "execute_result",
          "data": {
            "application/vnd.google.colaboratory.intrinsic+json": {
              "type": "string"
            },
            "text/plain": [
              "\"If we wanted to save the entire model, we would use:\\ntorch.save(model, 'name_of_file.pkl')\\nand it MUST be saved as a pickle file!\""
            ]
          },
          "metadata": {
            "tags": []
          },
          "execution_count": 132
        }
      ]
    },
    {
      "cell_type": "markdown",
      "metadata": {
        "id": "DJibO-zw63gV"
      },
      "source": [
        "To load the model for later use. You either must redefine the same exact class used to create or save the file as a pkl file to have access to all of it."
      ]
    },
    {
      "cell_type": "code",
      "metadata": {
        "colab": {
          "base_uri": "https://localhost:8080/"
        },
        "id": "SLf_NPQW7GW3",
        "outputId": "5ca6ca1d-6bfd-4d7a-f7ee-cb27fa1349f1"
      },
      "source": [
        "new_model = Model() #instatiate a new model. This new model will have randomized w and b values\n",
        "new_model.load_state_dict(torch.load('My_iris_model.pt'))"
      ],
      "execution_count": null,
      "outputs": [
        {
          "output_type": "execute_result",
          "data": {
            "text/plain": [
              "<All keys matched successfully>"
            ]
          },
          "metadata": {
            "tags": []
          },
          "execution_count": 134
        }
      ]
    },
    {
      "cell_type": "markdown",
      "metadata": {
        "id": "mn1AJUDS7qBR"
      },
      "source": [
        "**Let's test our model against unseen data to see it's efficiency!**"
      ]
    },
    {
      "cell_type": "code",
      "metadata": {
        "id": "BSGkeCPK7mo3"
      },
      "source": [
        "new_flower = torch.tensor([5.6, 3.7, 2.2, 0.5])"
      ],
      "execution_count": null,
      "outputs": []
    },
    {
      "cell_type": "code",
      "metadata": {
        "colab": {
          "base_uri": "https://localhost:8080/"
        },
        "id": "vvUdNive7_NR",
        "outputId": "8742609f-e68c-4bd3-e1c6-313f9d39d8e5"
      },
      "source": [
        "with torch.no_grad():\n",
        "    print(new_model(new_flower))\n",
        "    print(f'\\nPredicted: {labels[new_model(new_flower).argmax()]}')\n",
        "    print(f'We expected {labels[0]}!')"
      ],
      "execution_count": null,
      "outputs": [
        {
          "output_type": "stream",
          "text": [
            "tensor([ 15.6965,  11.1027, -16.0000])\n",
            "\n",
            "Predicted: Iris setosa\n",
            "We expected Iris setosa!\n"
          ],
          "name": "stdout"
        }
      ]
    }
  ]
}